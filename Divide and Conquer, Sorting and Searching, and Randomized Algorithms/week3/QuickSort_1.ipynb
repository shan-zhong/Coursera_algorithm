{
 "cells": [
  {
   "cell_type": "code",
   "execution_count": null,
   "metadata": {},
   "outputs": [],
   "source": [
    "with open('./QuickSort.txt') as f:\n",
    "    a = [int(x) for x in f]"
   ]
  },
  {
   "cell_type": "code",
   "execution_count": null,
   "metadata": {},
   "outputs": [],
   "source": [
    "def FindMedian(A):\n",
    "    first = A[0]\n",
    "    final = A[-1]\n",
    "    mid = A[int(len(A)/2)]\n",
    "    median = sorted([first, mid, final])\n",
    "    return median[1]"
   ]
  },
  {
   "cell_type": "code",
   "execution_count": null,
   "metadata": {},
   "outputs": [],
   "source": [
    "def Partition_first(A):\n",
    "    pivot = A[0]\n",
    "    r = len(A)\n",
    "    i = 1\n",
    "    for j in range(1, r):\n",
    "        if A[j]<pivot:\n",
    "            A[j], A[i] = A[i], A[j]\n",
    "            i += 1\n",
    "    A[0], A[i-1] = A[i-1], A[0]\n",
    "    return A, i-1   "
   ]
  },
  {
   "cell_type": "code",
   "execution_count": null,
   "metadata": {},
   "outputs": [],
   "source": [
    "def QuickSort(A):\n",
    "    n = len(A)\n",
    "    if n>1:\n",
    "        A, pivot_position = Partition_first(A)\n",
    "        A[:pivot_position], left = "
   ]
  }
 ],
 "metadata": {
  "language_info": {
   "name": "python"
  },
  "orig_nbformat": 4
 },
 "nbformat": 4,
 "nbformat_minor": 2
}
