{
 "cells": [
  {
   "cell_type": "code",
   "execution_count": 1,
   "metadata": {},
   "outputs": [],
   "source": [
    "\n",
    "with open('quickSort.txt') as f:\n",
    "    a = [int(x) for x in f]\n"
   ]
  },
  {
   "cell_type": "code",
   "execution_count": 2,
   "metadata": {},
   "outputs": [],
   "source": [
    "def FindMedian(A):\n",
    "    minvalue = min(A)\n",
    "    maxvalue = max(A)\n",
    "    for i in range(3):\n",
    "        if A[i] != minvalue and A[i] != maxvalue:\n",
    "            return A[i]"
   ]
  },
  {
   "cell_type": "code",
   "execution_count": 3,
   "metadata": {},
   "outputs": [],
   "source": [
    "def ChoosePivot(A,flag):\n",
    "    n = len(A)\n",
    "    first = A[0]\n",
    "    final = A[n-1]\n",
    "    if n%2==0:\n",
    "        k = int(n/2 - 1)\n",
    "        middle = A[k]\n",
    "    elif n%2==1:\n",
    "        k = int(n/2)\n",
    "        middle = A[k]\n",
    "    else:\n",
    "        print('error')\n",
    "    \n",
    "    B = [first,middle,final]\n",
    "    med = FindMedian(B)\n",
    "    if med==B[0]:\n",
    "        position = 0\n",
    "    elif med==B[1]:\n",
    "        position = k\n",
    "    else:\n",
    "        position = n-1\n",
    "        \n",
    "    if flag==1:\n",
    "        return 0\n",
    "    if flag==2:\n",
    "        return n-1\n",
    "    if flag==3:\n",
    "        return position\n",
    "    else:\n",
    "        print ('wrong flag')\n"
   ]
  },
  {
   "cell_type": "code",
   "execution_count": 4,
   "metadata": {},
   "outputs": [],
   "source": [
    "def Swap(A,first,second):\n",
    "    second_value = A[second]\n",
    "    first_value = A[first]\n",
    "    A[first] = second_value\n",
    "    A[second] = first_value\n",
    "    return A\n"
   ]
  },
  {
   "cell_type": "code",
   "execution_count": 5,
   "metadata": {},
   "outputs": [],
   "source": [
    "def Partition(A):\n",
    "    pivot = A[0]\n",
    "    r = len(A)\n",
    "    i = 1\n",
    "    for j in range(1,r):\n",
    "        if A[j]<pivot:\n",
    "            A = Swap(A,i,j)\n",
    "            i +=1\n",
    "    A = Swap(A,0,i-1)\n",
    "    return A,i-1\n"
   ]
  },
  {
   "cell_type": "code",
   "execution_count": 6,
   "metadata": {},
   "outputs": [],
   "source": [
    "def QuickSort(A,flag):\n",
    "    n = len(A)\n",
    "    \n",
    "    if n>1:\n",
    "        p = ChoosePivot(A,flag)\n",
    "        A = Swap(A,0,p)\n",
    "        A,pivot_position = Partition(A)\n",
    "        A[:pivot_position],left = QuickSort(A[:pivot_position],flag)\n",
    "        A[pivot_position+1:],right = QuickSort(A[pivot_position+1:],flag)\n",
    "        \n",
    "        return A,left+right+n-1\n",
    "    else:\n",
    "        return A,0"
   ]
  },
  {
   "cell_type": "code",
   "execution_count": 7,
   "metadata": {},
   "outputs": [
    {
     "name": "stdout",
     "output_type": "stream",
     "text": [
      "138382\n"
     ]
    }
   ],
   "source": [
    "_, count = QuickSort(a, 3)\n",
    "print(count)"
   ]
  }
 ],
 "metadata": {
  "kernelspec": {
   "display_name": "base",
   "language": "python",
   "name": "python3"
  },
  "language_info": {
   "codemirror_mode": {
    "name": "ipython",
    "version": 3
   },
   "file_extension": ".py",
   "mimetype": "text/x-python",
   "name": "python",
   "nbconvert_exporter": "python",
   "pygments_lexer": "ipython3",
   "version": "3.9.16"
  },
  "orig_nbformat": 4
 },
 "nbformat": 4,
 "nbformat_minor": 2
}
