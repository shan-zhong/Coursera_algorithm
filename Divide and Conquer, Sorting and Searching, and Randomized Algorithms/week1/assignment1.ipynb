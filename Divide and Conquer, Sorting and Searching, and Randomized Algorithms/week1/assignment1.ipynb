{
 "cells": [
  {
   "cell_type": "code",
   "execution_count": 40,
   "metadata": {},
   "outputs": [],
   "source": [
    "def KaratsubaMultiply(x, y):\n",
    "    if x//10>0 and y//10>0:\n",
    "        n = len(str(x))\n",
    "        A = int(x//(10**int(n/2)))\n",
    "        B = int(x% (10**int(n/2)))\n",
    "        C = int(y//(10**int(n/2)))\n",
    "        D = int(y% (10**int(n/2)))\n",
    "\n",
    "        step1 = KaratsubaMultiply(A, C)\n",
    "        step2 = KaratsubaMultiply(B, D)\n",
    "        step3 = KaratsubaMultiply(A, D) + KaratsubaMultiply(B, C)\n",
    "        return  int(step1*(10**int(n)) + step2 + step3*(10**int(n/2)))\n",
    "    else:\n",
    "        return int(x*y)\n",
    "    "
   ]
  }
 ],
 "metadata": {
  "kernelspec": {
   "display_name": "tf",
   "language": "python",
   "name": "python3"
  },
  "language_info": {
   "codemirror_mode": {
    "name": "ipython",
    "version": 3
   },
   "file_extension": ".py",
   "mimetype": "text/x-python",
   "name": "python",
   "nbconvert_exporter": "python",
   "pygments_lexer": "ipython3",
   "version": "3.10.4"
  },
  "orig_nbformat": 4
 },
 "nbformat": 4,
 "nbformat_minor": 2
}
