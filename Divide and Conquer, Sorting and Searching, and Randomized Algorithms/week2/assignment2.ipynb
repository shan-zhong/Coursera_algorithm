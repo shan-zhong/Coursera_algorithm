{
 "cells": [
  {
   "cell_type": "code",
   "execution_count": 5,
   "metadata": {},
   "outputs": [],
   "source": [
    "class Solution:\n",
    "    def reversePairs(self, nums: list[int]) -> int:\n",
    "        def merge_sort(l, r):\n",
    "            # 终止条件\n",
    "            if l >= r: return 0\n",
    "            # 递归划分\n",
    "            m = (l + r) // 2\n",
    "            res = merge_sort(l, m) + merge_sort(m + 1, r)\n",
    "            # 合并阶段\n",
    "            i, j = l, m + 1\n",
    "            tmp[l:r + 1] = nums[l:r + 1]\n",
    "            for k in range(l, r + 1):\n",
    "                if i == m + 1:\n",
    "                    nums[k] = tmp[j]\n",
    "                    j += 1\n",
    "                elif j == r + 1 or tmp[i] <= tmp[j]:\n",
    "                    nums[k] = tmp[i]\n",
    "                    i += 1\n",
    "                else:\n",
    "                    nums[k] = tmp[j]\n",
    "                    j += 1\n",
    "                    res += m - i + 1 # 统计逆序对\n",
    "            return res\n",
    "        \n",
    "        tmp = [0] * len(nums)\n",
    "        return merge_sort(0, len(nums) - 1)\n"
   ]
  },
  {
   "cell_type": "code",
   "execution_count": 1,
   "metadata": {},
   "outputs": [],
   "source": [
    "import numpy as np"
   ]
  },
  {
   "cell_type": "code",
   "execution_count": 2,
   "metadata": {},
   "outputs": [],
   "source": [
    "array = np.loadtxt('./intergersArray.txt')\n",
    "integerList = array.tolist()"
   ]
  },
  {
   "cell_type": "code",
   "execution_count": 3,
   "metadata": {},
   "outputs": [
    {
     "data": {
      "text/plain": [
       "100000"
      ]
     },
     "execution_count": 3,
     "metadata": {},
     "output_type": "execute_result"
    }
   ],
   "source": [
    "len(integerList)"
   ]
  },
  {
   "cell_type": "code",
   "execution_count": 10,
   "metadata": {},
   "outputs": [],
   "source": [
    "A=Solution().reversePairs"
   ]
  },
  {
   "cell_type": "code",
   "execution_count": 11,
   "metadata": {},
   "outputs": [
    {
     "data": {
      "text/plain": [
       "2407905288"
      ]
     },
     "execution_count": 11,
     "metadata": {},
     "output_type": "execute_result"
    }
   ],
   "source": [
    "count = A(integerList)\n",
    "count"
   ]
  }
 ],
 "metadata": {
  "kernelspec": {
   "display_name": "base",
   "language": "python",
   "name": "python3"
  },
  "language_info": {
   "codemirror_mode": {
    "name": "ipython",
    "version": 3
   },
   "file_extension": ".py",
   "mimetype": "text/x-python",
   "name": "python",
   "nbconvert_exporter": "python",
   "pygments_lexer": "ipython3",
   "version": "3.9.16"
  },
  "orig_nbformat": 4
 },
 "nbformat": 4,
 "nbformat_minor": 2
}
